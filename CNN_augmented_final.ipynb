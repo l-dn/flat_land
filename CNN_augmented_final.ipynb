{
  "nbformat": 4,
  "nbformat_minor": 0,
  "metadata": {
    "colab": {
      "provenance": []
    },
    "kernelspec": {
      "name": "python3",
      "display_name": "Python 3"
    },
    "language_info": {
      "name": "python"
    },
    "gpuClass": "standard",
    "accelerator": "GPU"
  },
  "cells": [
    {
      "cell_type": "code",
      "source": [
        "%matplotlib inline\n",
        "\n",
        "import numpy as np\n",
        "import matplotlib.pyplot as plt\n",
        "import pandas as pd\n",
        "from sklearn.model_selection import train_test_split\n",
        "\n",
        "import tensorflow.keras as keras\n",
        "from tensorflow.keras.layers import Dense, Input, Flatten, Conv2D, BatchNormalization, \\\n",
        "                                    Activation, Dropout, MaxPooling2D\n",
        "from tensorflow.keras import layers\n",
        "from tensorflow.keras.models import Sequential\n",
        "from tensorflow.keras.optimizers import Adam\n",
        "from tensorflow.keras import preprocessing\n",
        "\n",
        "from collections import Counter"
      ],
      "metadata": {
        "id": "nTvyWvB2o6JK"
      },
      "execution_count": 1,
      "outputs": []
    },
    {
      "cell_type": "markdown",
      "source": [
        "Load data"
      ],
      "metadata": {
        "id": "zlJ2zvP0Dy9M"
      }
    },
    {
      "cell_type": "code",
      "source": [
        "data = np.load('/content/flatland_train.npz')\n",
        "X = data['X']\n",
        "y = data['y']"
      ],
      "metadata": {
        "id": "9nNCOiMMCvTr"
      },
      "execution_count": 3,
      "outputs": []
    },
    {
      "cell_type": "markdown",
      "source": [
        "Let's check the shape"
      ],
      "metadata": {
        "id": "cZW6KaDYk5R_"
      }
    },
    {
      "cell_type": "code",
      "source": [
        "X.shape"
      ],
      "metadata": {
        "colab": {
          "base_uri": "https://localhost:8080/"
        },
        "id": "e2NiXg5pi5dd",
        "outputId": "4ff94e70-f26a-4543-d585-707a5fa4c1c1"
      },
      "execution_count": 4,
      "outputs": [
        {
          "output_type": "execute_result",
          "data": {
            "text/plain": [
              "(10000, 50, 50)"
            ]
          },
          "metadata": {},
          "execution_count": 4
        }
      ]
    },
    {
      "cell_type": "code",
      "source": [
        "y.shape"
      ],
      "metadata": {
        "colab": {
          "base_uri": "https://localhost:8080/"
        },
        "id": "vUyeNHC3i5g8",
        "outputId": "5ab2a94e-73c9-4ee9-f205-87552926dfcb"
      },
      "execution_count": 5,
      "outputs": [
        {
          "output_type": "execute_result",
          "data": {
            "text/plain": [
              "(10000,)"
            ]
          },
          "metadata": {},
          "execution_count": 5
        }
      ]
    },
    {
      "cell_type": "markdown",
      "source": [
        "Change the numeration"
      ],
      "metadata": {
        "id": "TuBuBdsRlKRx"
      }
    },
    {
      "cell_type": "code",
      "source": [
        "y[y != 0] -= 2    # Correct labels so that triangle is mapped to class 1\n",
        "X = X / 255.      # Scale down to range [0, 1]"
      ],
      "metadata": {
        "id": "71MPVRMli5kE"
      },
      "execution_count": 6,
      "outputs": []
    },
    {
      "cell_type": "markdown",
      "source": [
        "Let's use the counter command"
      ],
      "metadata": {
        "id": "EBOiHSq-ld-U"
      }
    },
    {
      "cell_type": "code",
      "source": [
        "Counter(y)"
      ],
      "metadata": {
        "colab": {
          "base_uri": "https://localhost:8080/"
        },
        "id": "WvAihi4Di5oO",
        "outputId": "060edf26-f0ed-426e-83d8-d945099b71bf"
      },
      "execution_count": null,
      "outputs": [
        {
          "output_type": "execute_result",
          "data": {
            "text/plain": [
              "Counter({2.0: 1868, 4.0: 1761, 3.0: 2137, 1.0: 2853, 0.0: 1381})"
            ]
          },
          "metadata": {},
          "execution_count": 6
        }
      ]
    },
    {
      "cell_type": "markdown",
      "source": [
        "We can see that a Hexagon is the figure that has the most corners in here."
      ],
      "metadata": {
        "id": "LrowmSAfl1g1"
      }
    },
    {
      "cell_type": "code",
      "source": [
        "plt.figure(figsize=(10, 3)) #plot of first 30 figures\n",
        "for i in range(30):\n",
        "    plt.subplot(3, 10, i + 1)\n",
        "    plt.imshow(X[i], cmap='gray')\n",
        "    plt.axis('off')\n",
        "plt.show()"
      ],
      "metadata": {
        "id": "Gv18fCvMo65K",
        "colab": {
          "base_uri": "https://localhost:8080/",
          "height": 193
        },
        "outputId": "b85cfa94-372e-4b3e-f6c2-de9ba9b731ed"
      },
      "execution_count": null,
      "outputs": [
        {
          "output_type": "display_data",
          "data": {
            "text/plain": [
              "<Figure size 720x216 with 30 Axes>"
            ],
            "image/png": "[encoded data removed]"
          },
          "metadata": {
            "needs_background": "light"
          }
        }
      ]
    },
    {
      "cell_type": "markdown",
      "source": [
        "Let's split data to training and testing"
      ],
      "metadata": {
        "id": "zLi64IzVpf1r"
      }
    },
    {
      "cell_type": "code",
      "source": [
        "X_train, X_test, y_train, y_test = train_test_split(X, y, test_size=0.25, random_state=42)"
      ],
      "metadata": {
        "id": "K6uotzj-zKYL"
      },
      "execution_count": 7,
      "outputs": []
    },
    {
      "cell_type": "code",
      "source": [
        "plt.imshow(X_train[5], cmap='gray')"
      ],
      "metadata": {
        "colab": {
          "base_uri": "https://localhost:8080/",
          "height": 284
        },
        "id": "gXb43O5lzj0A",
        "outputId": "def616df-fbad-454c-ea7e-04a08eaea908"
      },
      "execution_count": null,
      "outputs": [
        {
          "output_type": "execute_result",
          "data": {
            "text/plain": [
              "<matplotlib.image.AxesImage at 0x7f395895e4d0>"
            ]
          },
          "metadata": {},
          "execution_count": 14
        },
        {
          "output_type": "display_data",
          "data": {
            "text/plain": [
              "<Figure size 432x288 with 1 Axes>"
            ],
            "image/png": "[encoded data removed]"
          },
          "metadata": {
            "needs_background": "light"
          }
        }
      ]
    },
    {
      "cell_type": "code",
      "source": [
        "plt.imshow(X_train[5][..., ::-1], cmap='gray')"
      ],
      "metadata": {
        "colab": {
          "base_uri": "https://localhost:8080/",
          "height": 284
        },
        "id": "hjg2IkIQz_Jw",
        "outputId": "a2b8f5d8-9e23-451f-bba2-76fbfc022561"
      },
      "execution_count": null,
      "outputs": [
        {
          "output_type": "execute_result",
          "data": {
            "text/plain": [
              "<matplotlib.image.AxesImage at 0x7f395894c250>"
            ]
          },
          "metadata": {},
          "execution_count": 15
        },
        {
          "output_type": "display_data",
          "data": {
            "text/plain": [
              "<Figure size 432x288 with 1 Axes>"
            ],
            "image/png": "[encoded data removed]"
          },
          "metadata": {
            "needs_background": "light"
          }
        }
      ]
    },
    {
      "cell_type": "code",
      "source": [
        "Counter(y_train)"
      ],
      "metadata": {
        "colab": {
          "base_uri": "https://localhost:8080/"
        },
        "id": "rZWy-PLAhJ5A",
        "outputId": "bd0d05d5-6f6e-4423-c3cb-56c805ed3d15"
      },
      "execution_count": null,
      "outputs": [
        {
          "output_type": "execute_result",
          "data": {
            "text/plain": [
              "Counter({3.0: 1617, 1.0: 2147, 0.0: 1002, 4.0: 1340, 2.0: 1394})"
            ]
          },
          "metadata": {},
          "execution_count": 16
        }
      ]
    },
    {
      "cell_type": "code",
      "source": [
        "Counter(y_test)"
      ],
      "metadata": {
        "colab": {
          "base_uri": "https://localhost:8080/"
        },
        "id": "3MfJcS18hJ-p",
        "outputId": "6ad8971f-6c31-459e-8e9b-306b2b55ac52"
      },
      "execution_count": null,
      "outputs": [
        {
          "output_type": "execute_result",
          "data": {
            "text/plain": [
              "Counter({1.0: 706, 0.0: 379, 4.0: 421, 3.0: 520, 2.0: 474})"
            ]
          },
          "metadata": {},
          "execution_count": 17
        }
      ]
    },
    {
      "cell_type": "code",
      "source": [
        "X_train.shape"
      ],
      "metadata": {
        "colab": {
          "base_uri": "https://localhost:8080/"
        },
        "id": "XnSae-LfSlwS",
        "outputId": "d5735ed3-579d-456a-f3e6-d66cf96a8e5d"
      },
      "execution_count": null,
      "outputs": [
        {
          "output_type": "execute_result",
          "data": {
            "text/plain": [
              "(7500, 50, 50, 1)"
            ]
          },
          "metadata": {},
          "execution_count": 18
        }
      ]
    },
    {
      "cell_type": "markdown",
      "source": [
        "We will add one dimension for conv2D"
      ],
      "metadata": {
        "id": "udl6tbkPgUxO"
      }
    },
    {
      "cell_type": "code",
      "source": [
        "X_train = X_train.reshape(X_train.shape[0], 50, 50, 1)\n",
        "X_test = X_test.reshape(X_test.shape[0], 50, 50, 1)"
      ],
      "metadata": {
        "id": "WbW5JRZHgVyG"
      },
      "execution_count": 8,
      "outputs": []
    },
    {
      "cell_type": "markdown",
      "source": [
        "We will use ImageDataGenerator to augment data."
      ],
      "metadata": {
        "id": "7F_BzQybv2SO"
      }
    },
    {
      "cell_type": "code",
      "source": [
        "datagen = keras.preprocessing.image.ImageDataGenerator(\n",
        "    rotation_range=40,\n",
        "    width_shift_range=0.1,\n",
        "    height_shift_range=0.1,\n",
        "    zoom_range=0.1,\n",
        "    horizontal_flip=True,\n",
        "    vertical_flip=True)\n",
        "\n",
        "\n",
        "datagen.fit(X_train)"
      ],
      "metadata": {
        "id": "9sf2yHJglaXm"
      },
      "execution_count": 9,
      "outputs": []
    },
    {
      "cell_type": "code",
      "source": [
        "len(X_train)"
      ],
      "metadata": {
        "id": "rKw704H6ofkJ",
        "colab": {
          "base_uri": "https://localhost:8080/"
        },
        "outputId": "55548b09-76db-4fe6-b89e-e04fc2149e7b"
      },
      "execution_count": 11,
      "outputs": [
        {
          "output_type": "execute_result",
          "data": {
            "text/plain": [
              "7500"
            ]
          },
          "metadata": {},
          "execution_count": 11
        }
      ]
    },
    {
      "cell_type": "code",
      "source": [
        "inp = keras.layers.Input(shape=(50, 50, 1))\n",
        "\n",
        "out = keras.layers.Conv2D(64, kernel_size=(3, 3), activation='relu')(inp)\n",
        "out = keras.layers.Conv2D(64, kernel_size=(3, 3), activation='relu')(out)\n",
        "out = keras.layers.Conv2D(32, kernel_size=(3, 3), activation='relu')(out)\n",
        "out = keras.layers.Conv2D(16, kernel_size=(3, 3), activation='relu')(out)\n",
        "out = keras.layers.MaxPool2D(pool_size=(3, 3))(out)\n",
        "\n",
        "out = keras.layers.BatchNormalization(axis=-1)(out)\n",
        "\n",
        "out = keras.layers.Conv2D(32, kernel_size=(3, 3), activation='relu')(out)\n",
        "out = keras.layers.Conv2D(32, kernel_size=(3, 3), activation='relu')(out)\n",
        "out = keras.layers.MaxPool2D(pool_size=(2, 2))(out)\n",
        "\n",
        "out = keras.layers.Flatten()(out)\n",
        "out = keras.layers.Dense(512,  activation='relu')(out)\n",
        "out = keras.layers.Dropout(0.2)(out)\n",
        "out = keras.layers.Dense(216,  activation='relu')(out)\n",
        "out = keras.layers.Dropout(0.2)(out)\n",
        "out = keras.layers.Dense(5,  activation='softmax')(out)\n",
        "\n",
        "\n",
        "model = keras.models.Model(inputs=inp, outputs=out)\n",
        "model.compile(optimizer=keras.optimizers.Adam(learning_rate=3e-4),\n",
        "              loss='sparse_categorical_crossentropy', metrics=['accuracy'])\n",
        "\n",
        "model.summary()\n",
        "\n",
        "\n",
        "hist = model.fit(datagen.flow(X_train, y_train, batch_size=32),\n",
        "                 validation_data=(X_test, y_test),\n",
        "                 steps_per_epoch=len(X_train) / 32, epochs=20)\n",
        "\n",
        "\n",
        "\n",
        "#hist = model.fit(X_train, y_train,\n",
        "#                validation_data=(X_test, y_test),\n",
        "#                 epochs=20, batch_size=128)\n",
        "\n",
        "pd.DataFrame(hist.history).plot()"
      ],
      "metadata": {
        "id": "48kpg9iFskLN",
        "outputId": "a36d5dff-dd3d-40bf-f30e-cc58ab020ca5",
        "colab": {
          "base_uri": "https://localhost:8080/",
          "height": 1000
        }
      },
      "execution_count": 15,
      "outputs": [
        {
          "output_type": "stream",
          "name": "stdout",
          "text": [
            "Model: \"model_2\"\n",
            "_________________________________________________________________\n",
            " Layer (type)                Output Shape              Param #   \n",
            "=================================================================\n",
            " input_3 (InputLayer)        [(None, 50, 50, 1)]       0         \n",
            "                                                                 \n",
            " conv2d_12 (Conv2D)          (None, 48, 48, 64)        640       \n",
            "                                                                 \n",
            " conv2d_13 (Conv2D)          (None, 46, 46, 64)        36928     \n",
            "                                                                 \n",
            " conv2d_14 (Conv2D)          (None, 44, 44, 32)        18464     \n",
            "                                                                 \n",
            " conv2d_15 (Conv2D)          (None, 42, 42, 16)        4624      \n",
            "                                                                 \n",
            " max_pooling2d_4 (MaxPooling  (None, 14, 14, 16)       0         \n",
            " 2D)                                                             \n",
            "                                                                 \n",
            " batch_normalization_2 (Batc  (None, 14, 14, 16)       64        \n",
            " hNormalization)                                                 \n",
            "                                                                 \n",
            " conv2d_16 (Conv2D)          (None, 12, 12, 32)        4640      \n",
            "                                                                 \n",
            " conv2d_17 (Conv2D)          (None, 10, 10, 32)        9248      \n",
            "                                                                 \n",
            " max_pooling2d_5 (MaxPooling  (None, 5, 5, 32)         0         \n",
            " 2D)                                                             \n",
            "                                                                 \n",
            " flatten_2 (Flatten)         (None, 800)               0         \n",
            "                                                                 \n",
            " dense_6 (Dense)             (None, 512)               410112    \n",
            "                                                                 \n",
            " dropout_4 (Dropout)         (None, 512)               0         \n",
            "                                                                 \n",
            " dense_7 (Dense)             (None, 216)               110808    \n",
            "                                                                 \n",
            " dropout_5 (Dropout)         (None, 216)               0         \n",
            "                                                                 \n",
            " dense_8 (Dense)             (None, 5)                 1085      \n",
            "                                                                 \n",
            "=================================================================\n",
            "Total params: 596,613\n",
            "Trainable params: 596,581\n",
            "Non-trainable params: 32\n",
            "_________________________________________________________________\n",
            "Epoch 1/20\n",
            "234/234 [==============================] - 6s 23ms/step - loss: 1.2287 - accuracy: 0.4668 - val_loss: 1.2437 - val_accuracy: 0.4796\n",
            "Epoch 2/20\n",
            "234/234 [==============================] - 5s 21ms/step - loss: 0.7294 - accuracy: 0.7156 - val_loss: 1.5604 - val_accuracy: 0.3716\n",
            "Epoch 3/20\n",
            "234/234 [==============================] - 5s 21ms/step - loss: 0.3726 - accuracy: 0.9052 - val_loss: 0.2677 - val_accuracy: 0.9460\n",
            "Epoch 4/20\n",
            "234/234 [==============================] - 5s 21ms/step - loss: 0.2702 - accuracy: 0.9487 - val_loss: 0.1937 - val_accuracy: 0.9792\n",
            "Epoch 5/20\n",
            "234/234 [==============================] - 6s 26ms/step - loss: 0.2394 - accuracy: 0.9512 - val_loss: 0.1887 - val_accuracy: 0.9768\n",
            "Epoch 6/20\n",
            "234/234 [==============================] - 5s 21ms/step - loss: 0.1961 - accuracy: 0.9671 - val_loss: 0.1710 - val_accuracy: 0.9768\n",
            "Epoch 7/20\n",
            "234/234 [==============================] - 5s 21ms/step - loss: 0.1746 - accuracy: 0.9721 - val_loss: 0.1639 - val_accuracy: 0.9760\n",
            "Epoch 8/20\n",
            "234/234 [==============================] - 5s 21ms/step - loss: 0.1637 - accuracy: 0.9752 - val_loss: 0.1474 - val_accuracy: 0.9832\n",
            "Epoch 9/20\n",
            "234/234 [==============================] - 5s 21ms/step - loss: 0.1516 - accuracy: 0.9771 - val_loss: 0.1925 - val_accuracy: 0.9684\n",
            "Epoch 10/20\n",
            "234/234 [==============================] - 5s 21ms/step - loss: 0.1597 - accuracy: 0.9709 - val_loss: 0.1628 - val_accuracy: 0.9808\n",
            "Epoch 11/20\n",
            "234/234 [==============================] - 5s 22ms/step - loss: 0.1520 - accuracy: 0.9769 - val_loss: 0.1375 - val_accuracy: 0.9832\n",
            "Epoch 12/20\n",
            "234/234 [==============================] - 5s 21ms/step - loss: 0.1449 - accuracy: 0.9773 - val_loss: 0.1398 - val_accuracy: 0.9812\n",
            "Epoch 13/20\n",
            "234/234 [==============================] - 5s 21ms/step - loss: 0.1376 - accuracy: 0.9804 - val_loss: 0.1331 - val_accuracy: 0.9836\n",
            "Epoch 14/20\n",
            "234/234 [==============================] - 5s 21ms/step - loss: 0.1436 - accuracy: 0.9768 - val_loss: 0.2494 - val_accuracy: 0.9264\n",
            "Epoch 15/20\n",
            "234/234 [==============================] - 5s 21ms/step - loss: 0.1387 - accuracy: 0.9793 - val_loss: 0.1307 - val_accuracy: 0.9836\n",
            "Epoch 16/20\n",
            "234/234 [==============================] - 5s 22ms/step - loss: 0.1310 - accuracy: 0.9807 - val_loss: 0.1391 - val_accuracy: 0.9836\n",
            "Epoch 17/20\n",
            "234/234 [==============================] - 5s 21ms/step - loss: 0.1284 - accuracy: 0.9804 - val_loss: 0.1384 - val_accuracy: 0.9808\n",
            "Epoch 18/20\n",
            "234/234 [==============================] - 5s 21ms/step - loss: 0.1291 - accuracy: 0.9807 - val_loss: 0.1328 - val_accuracy: 0.9836\n",
            "Epoch 19/20\n",
            "234/234 [==============================] - 5s 21ms/step - loss: 0.1239 - accuracy: 0.9831 - val_loss: 0.1273 - val_accuracy: 0.9836\n",
            "Epoch 20/20\n",
            "234/234 [==============================] - 5s 21ms/step - loss: 0.1255 - accuracy: 0.9799 - val_loss: 0.1337 - val_accuracy: 0.9824\n"
          ]
        },
        {
          "output_type": "execute_result",
          "data": {
            "text/plain": [
              "<matplotlib.axes._subplots.AxesSubplot at 0x7f872c034710>"
            ]
          },
          "metadata": {},
          "execution_count": 15
        },
        {
          "output_type": "display_data",
          "data": {
            "text/plain": [
              "<Figure size 432x288 with 1 Axes>"
            ],
            "image/png": "[encoded data removed]"
          },
          "metadata": {
            "needs_background": "light"
          }
        }
      ]
    },
    {
      "cell_type": "markdown",
      "source": [
        "Now let's see the results"
      ],
      "metadata": {
        "id": "sdbFG0Frmm-9"
      }
    },
    {
      "cell_type": "code",
      "source": [
        "pred = model.predict(X_test).argmax(axis=1)\n",
        "\n",
        "X_test = X_test.reshape(X_test.shape[0], 50, 50)\n",
        "\n",
        "plt.figure(figsize=(5, 5))\n",
        "for label in range(5):\n",
        "    for i in range(5):\n",
        "        plt.subplot(5, 5, label * 5 + i +1)\n",
        "        plt.imshow(X_test[pred == label][i], cmap='gray')\n",
        "        plt.axis('off')\n",
        "plt.show()"
      ],
      "metadata": {
        "colab": {
          "base_uri": "https://localhost:8080/",
          "height": 320
        },
        "id": "jdgGrGerddFl",
        "outputId": "434d4ffe-f011-4992-b87a-82a1681ebf83"
      },
      "execution_count": null,
      "outputs": [
        {
          "output_type": "stream",
          "name": "stdout",
          "text": [
            "79/79 [==============================] - 1s 5ms/step\n"
          ]
        },
        {
          "output_type": "display_data",
          "data": {
            "text/plain": [
              "<Figure size 360x360 with 25 Axes>"
            ],
            "image/png": "[encoded data removed]"
          },
          "metadata": {
            "needs_background": "light"
          }
        }
      ]
    },
    {
      "cell_type": "markdown",
      "source": [
        "issaugoti modeli, atsisiusti notebooka..."
      ],
      "metadata": {
        "id": "XNRNf8Da-Bqi"
      }
    },
    {
      "cell_type": "code",
      "source": [
        "model.save('CNN_augmented_data.h5')"
      ],
      "metadata": {
        "id": "qro4vQK6y-bV"
      },
      "execution_count": 17,
      "outputs": []
    },
    {
      "cell_type": "code",
      "source": [],
      "metadata": {
        "id": "H63CRfMNLmov"
      },
      "execution_count": null,
      "outputs": []
    }
  ]
}