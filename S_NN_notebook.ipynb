{
  "nbformat": 4,
  "nbformat_minor": 0,
  "metadata": {
    "colab": {
      "provenance": [],
      "collapsed_sections": []
    },
    "kernelspec": {
      "name": "python3",
      "display_name": "Python 3"
    },
    "language_info": {
      "name": "python"
    },
    "gpuClass": "standard",
    "accelerator": "GPU"
  },
  "cells": [
    {
      "cell_type": "code",
      "source": [
        "%matplotlib inline\n",
        "\n",
        "import numpy as np\n",
        "import matplotlib.pyplot as plt\n",
        "import pandas as pd\n",
        "from sklearn.model_selection import train_test_split\n",
        "\n",
        "import tensorflow.keras as keras\n",
        "from tensorflow.keras.layers import Dense, Input\n",
        "from tensorflow.keras.models import Sequential\n",
        "from tensorflow.keras.optimizers import Adam\n",
        "from collections import Counter"
      ],
      "metadata": {
        "id": "nTvyWvB2o6JK"
      },
      "execution_count": 1,
      "outputs": []
    },
    {
      "cell_type": "markdown",
      "source": [
        "Load data"
      ],
      "metadata": {
        "id": "zlJ2zvP0Dy9M"
      }
    },
    {
      "cell_type": "code",
      "source": [
        "data = np.load('/flatland_train.npz')\n",
        "X = data['X']\n",
        "y = data['y']"
      ],
      "metadata": {
        "id": "9nNCOiMMCvTr"
      },
      "execution_count": 2,
      "outputs": []
    },
    {
      "cell_type": "markdown",
      "source": [
        "Let's check the shape"
      ],
      "metadata": {
        "id": "cZW6KaDYk5R_"
      }
    },
    {
      "cell_type": "code",
      "source": [
        "X.shape"
      ],
      "metadata": {
        "colab": {
          "base_uri": "https://localhost:8080/"
        },
        "id": "e2NiXg5pi5dd",
        "outputId": "b1924f56-35b7-414d-ec21-16f4e6c94ba2"
      },
      "execution_count": null,
      "outputs": [
        {
          "output_type": "execute_result",
          "data": {
            "text/plain": [
              "(10000, 50, 50)"
            ]
          },
          "metadata": {},
          "execution_count": 3
        }
      ]
    },
    {
      "cell_type": "code",
      "source": [
        "y.shape"
      ],
      "metadata": {
        "colab": {
          "base_uri": "https://localhost:8080/"
        },
        "id": "vUyeNHC3i5g8",
        "outputId": "a75a2607-32c7-4c40-c86a-a6cb7a25f464"
      },
      "execution_count": null,
      "outputs": [
        {
          "output_type": "execute_result",
          "data": {
            "text/plain": [
              "(10000,)"
            ]
          },
          "metadata": {},
          "execution_count": 4
        }
      ]
    },
    {
      "cell_type": "markdown",
      "source": [
        "Change the numeration"
      ],
      "metadata": {
        "id": "TuBuBdsRlKRx"
      }
    },
    {
      "cell_type": "code",
      "source": [
        "y[y != 0] -= 2    # Correct labels so that triangle is mapped to class 1\n",
        "X = X / 255.      # Scale down to range [0, 1]"
      ],
      "metadata": {
        "id": "71MPVRMli5kE"
      },
      "execution_count": 3,
      "outputs": []
    },
    {
      "cell_type": "markdown",
      "source": [
        "Let's use the counter command"
      ],
      "metadata": {
        "id": "EBOiHSq-ld-U"
      }
    },
    {
      "cell_type": "code",
      "source": [
        "Counter(y)"
      ],
      "metadata": {
        "colab": {
          "base_uri": "https://localhost:8080/"
        },
        "id": "WvAihi4Di5oO",
        "outputId": "8496ba89-a48a-4fc3-9858-aedb2940603d"
      },
      "execution_count": 6,
      "outputs": [
        {
          "output_type": "execute_result",
          "data": {
            "text/plain": [
              "Counter({2.0: 1868, 4.0: 1761, 3.0: 2137, 1.0: 2853, 0.0: 1381})"
            ]
          },
          "metadata": {},
          "execution_count": 6
        }
      ]
    },
    {
      "cell_type": "markdown",
      "source": [
        "We can see that a Hexagon is the figure that has the most corners in here."
      ],
      "metadata": {
        "id": "LrowmSAfl1g1"
      }
    },
    {
      "cell_type": "code",
      "source": [
        "plt.figure(figsize=(10, 3)) #plot of first 30 figures\n",
        "for i in range(30):\n",
        "    plt.subplot(3, 10, i + 1)\n",
        "    plt.imshow(X[i], cmap='gray')\n",
        "    plt.axis('off')\n",
        "plt.show()"
      ],
      "metadata": {
        "id": "Gv18fCvMo65K",
        "colab": {
          "base_uri": "https://localhost:8080/",
          "height": 193
        },
        "outputId": "15528f63-7e36-4a10-d0fd-47ab085f6ec0"
      },
      "execution_count": 5,
      "outputs": [
        {
          "output_type": "display_data",
          "data": {
            "text/plain": [
              "<Figure size 720x216 with 30 Axes>"
            ],
            "image/png": "[encoded data removed]"
          },
          "metadata": {
            "needs_background": "light"
          }
        }
      ]
    },
    {
      "cell_type": "markdown",
      "source": [
        "Let's split data to training and testing"
      ],
      "metadata": {
        "id": "zLi64IzVpf1r"
      }
    },
    {
      "cell_type": "code",
      "source": [
        "X_train, X_test, y_train, y_test = train_test_split(X, y, test_size=0.25, random_state=42)"
      ],
      "metadata": {
        "id": "K6uotzj-zKYL"
      },
      "execution_count": 7,
      "outputs": []
    },
    {
      "cell_type": "markdown",
      "source": [
        "We add additional data that is just a mirror view of existing ones."
      ],
      "metadata": {
        "id": "nrc3cxO3o_Vc"
      }
    },
    {
      "cell_type": "code",
      "source": [
        "X_train_aug = np.concatenate([X_train, X_train[..., ::-1]])\n",
        "y_train_aug = np.concatenate([y_train, y_train])"
      ],
      "metadata": {
        "id": "0x3mF26io_ak"
      },
      "execution_count": 8,
      "outputs": []
    },
    {
      "cell_type": "code",
      "source": [
        "plt.imshow(X_train[5], cmap='gray')"
      ],
      "metadata": {
        "colab": {
          "base_uri": "https://localhost:8080/",
          "height": 284
        },
        "id": "gXb43O5lzj0A",
        "outputId": "c8afa731-4b8f-414f-9b75-2a28a110a357"
      },
      "execution_count": 9,
      "outputs": [
        {
          "output_type": "execute_result",
          "data": {
            "text/plain": [
              "<matplotlib.image.AxesImage at 0x7fee99cb96d0>"
            ]
          },
          "metadata": {},
          "execution_count": 9
        },
        {
          "output_type": "display_data",
          "data": {
            "text/plain": [
              "<Figure size 432x288 with 1 Axes>"
            ],
            "image/png": "[encoded data removed]"
          },
          "metadata": {
            "needs_background": "light"
          }
        }
      ]
    },
    {
      "cell_type": "code",
      "source": [
        "plt.imshow(X_train[5][..., ::-1], cmap='gray')"
      ],
      "metadata": {
        "colab": {
          "base_uri": "https://localhost:8080/",
          "height": 284
        },
        "id": "hjg2IkIQz_Jw",
        "outputId": "5bab2f6c-b848-4af8-b136-5cdc522a5e92"
      },
      "execution_count": 10,
      "outputs": [
        {
          "output_type": "execute_result",
          "data": {
            "text/plain": [
              "<matplotlib.image.AxesImage at 0x7fee99c2e650>"
            ]
          },
          "metadata": {},
          "execution_count": 10
        },
        {
          "output_type": "display_data",
          "data": {
            "text/plain": [
              "<Figure size 432x288 with 1 Axes>"
            ],
            "image/png": "[encoded data removed]"
          },
          "metadata": {
            "needs_background": "light"
          }
        }
      ]
    },
    {
      "cell_type": "code",
      "source": [
        "Counter(y_train)"
      ],
      "metadata": {
        "colab": {
          "base_uri": "https://localhost:8080/"
        },
        "id": "rZWy-PLAhJ5A",
        "outputId": "570e84cb-c1fc-4fd4-bfd4-c9d9423909ba"
      },
      "execution_count": 11,
      "outputs": [
        {
          "output_type": "execute_result",
          "data": {
            "text/plain": [
              "Counter({3.0: 1617, 1.0: 2147, 0.0: 1002, 4.0: 1340, 2.0: 1394})"
            ]
          },
          "metadata": {},
          "execution_count": 11
        }
      ]
    },
    {
      "cell_type": "code",
      "source": [
        "Counter(y_test)"
      ],
      "metadata": {
        "colab": {
          "base_uri": "https://localhost:8080/"
        },
        "id": "3MfJcS18hJ-p",
        "outputId": "287b67cf-5a39-4c53-ddd9-510873ae5001"
      },
      "execution_count": 12,
      "outputs": [
        {
          "output_type": "execute_result",
          "data": {
            "text/plain": [
              "Counter({1.0: 706, 0.0: 379, 4.0: 421, 3.0: 520, 2.0: 474})"
            ]
          },
          "metadata": {},
          "execution_count": 12
        }
      ]
    },
    {
      "cell_type": "code",
      "source": [
        "plt.hist(y)"
      ],
      "metadata": {
        "id": "0JgkzaKwo_gA",
        "outputId": "a4124fd4-abe0-4b07-8b81-2ef3d57cd754",
        "colab": {
          "base_uri": "https://localhost:8080/",
          "height": 334
        }
      },
      "execution_count": 13,
      "outputs": [
        {
          "output_type": "execute_result",
          "data": {
            "text/plain": [
              "(array([1381.,    0., 2853.,    0.,    0., 1868.,    0., 2137.,    0.,\n",
              "        1761.]),\n",
              " array([0. , 0.4, 0.8, 1.2, 1.6, 2. , 2.4, 2.8, 3.2, 3.6, 4. ]),\n",
              " <a list of 10 Patch objects>)"
            ]
          },
          "metadata": {},
          "execution_count": 13
        },
        {
          "output_type": "display_data",
          "data": {
            "text/plain": [
              "<Figure size 432x288 with 1 Axes>"
            ],
            "image/png": "[encoded data removed]"
          },
          "metadata": {
            "needs_background": "light"
          }
        }
      ]
    },
    {
      "cell_type": "markdown",
      "source": [
        "Data y appears to have not normal distribution."
      ],
      "metadata": {
        "id": "Z1P9teVbr68K"
      }
    },
    {
      "cell_type": "code",
      "source": [
        "plt.hist(y, density=1)"
      ],
      "metadata": {
        "id": "Of0go7sApDyd",
        "outputId": "c26d2c75-8007-4e43-a570-e97885fd67dc",
        "colab": {
          "base_uri": "https://localhost:8080/",
          "height": 334
        }
      },
      "execution_count": 14,
      "outputs": [
        {
          "output_type": "execute_result",
          "data": {
            "text/plain": [
              "(array([0.34525, 0.     , 0.71325, 0.     , 0.     , 0.467  , 0.     ,\n",
              "        0.53425, 0.     , 0.44025]),\n",
              " array([0. , 0.4, 0.8, 1.2, 1.6, 2. , 2.4, 2.8, 3.2, 3.6, 4. ]),\n",
              " <a list of 10 Patch objects>)"
            ]
          },
          "metadata": {},
          "execution_count": 14
        },
        {
          "output_type": "display_data",
          "data": {
            "text/plain": [
              "<Figure size 432x288 with 1 Axes>"
            ],
            "image/png": "[encoded data removed]"
          },
          "metadata": {
            "needs_background": "light"
          }
        }
      ]
    },
    {
      "cell_type": "code",
      "source": [
        "X_train.shape"
      ],
      "metadata": {
        "colab": {
          "base_uri": "https://localhost:8080/"
        },
        "id": "XnSae-LfSlwS",
        "outputId": "83016952-c061-4f58-abf9-a02d29554f15"
      },
      "execution_count": 15,
      "outputs": [
        {
          "output_type": "execute_result",
          "data": {
            "text/plain": [
              "(7500, 50, 50)"
            ]
          },
          "metadata": {},
          "execution_count": 15
        }
      ]
    },
    {
      "cell_type": "code",
      "source": [
        "X_train_aug.shape"
      ],
      "metadata": {
        "colab": {
          "base_uri": "https://localhost:8080/"
        },
        "id": "V4vWXU6CpykW",
        "outputId": "2e099e39-c283-46a1-a817-cdb9a92d0761"
      },
      "execution_count": 16,
      "outputs": [
        {
          "output_type": "execute_result",
          "data": {
            "text/plain": [
              "(15000, 50, 50)"
            ]
          },
          "metadata": {},
          "execution_count": 16
        }
      ]
    },
    {
      "cell_type": "markdown",
      "source": [
        "We will use augmented data,\n",
        "\n",
        "In our NN: \n",
        "\n",
        "*   we have only 2 hidden layers because the data appears to be not very complicated;\n",
        "*   I found layers size to be optimal at 512, and 256, other number tends prolong the calculations with no visible improvement;\n",
        "*   Optimizer Adam - this by far the best;\n",
        "*   Batch size is bigger than default(32), results similar, but much more faster calculations;\n",
        "*   Drop out I found to have best results when they are set to 0.2;\n",
        "*   Relu hands down the best activation.\n",
        "\n",
        "\n",
        "\n",
        "\n",
        "\n",
        "\n",
        "\n",
        "\n",
        "\n",
        "\n"
      ],
      "metadata": {
        "id": "7F_BzQybv2SO"
      }
    },
    {
      "cell_type": "code",
      "source": [
        "inp = keras.layers.Input(shape=(50, 50))\n",
        "out = keras.layers.Flatten()(inp)\n",
        "out = keras.layers.Dense(512,  activation='relu')(out)\n",
        "out = keras.layers.Dropout(0.2)(out)\n",
        "out = keras.layers.Dense(256,  activation='relu')(out)\n",
        "out = keras.layers.Dropout(0.2)(out)\n",
        "out = keras.layers.Dense(5,  activation='softmax')(out)\n",
        "\n",
        "\n",
        "model = keras.models.Model(inputs=inp, outputs=out)\n",
        "model.compile(optimizer=keras.optimizers.Adam(learning_rate=3e-4),\n",
        "              loss='sparse_categorical_crossentropy', metrics=['accuracy'])\n",
        "\n",
        "model.summary()\n",
        "\n",
        "from datetime import datetime\n",
        "\n",
        "hist = model.fit(X_train_aug, y_train_aug,\n",
        "                validation_data=(X_test, y_test),\n",
        "                 epochs=40, batch_size=128)\n",
        "\n",
        "pd.DataFrame(hist.history).plot()"
      ],
      "metadata": {
        "id": "48kpg9iFskLN",
        "outputId": "e4821ab7-6d2a-41d2-84b2-2e24e55f7d83",
        "colab": {
          "base_uri": "https://localhost:8080/",
          "height": 1000
        }
      },
      "execution_count": 17,
      "outputs": [
        {
          "output_type": "stream",
          "name": "stdout",
          "text": [
            "Model: \"model\"\n",
            "_________________________________________________________________\n",
            " Layer (type)                Output Shape              Param #   \n",
            "=================================================================\n",
            " input_1 (InputLayer)        [(None, 50, 50)]          0         \n",
            "                                                                 \n",
            " flatten (Flatten)           (None, 2500)              0         \n",
            "                                                                 \n",
            " dense (Dense)               (None, 512)               1280512   \n",
            "                                                                 \n",
            " dropout (Dropout)           (None, 512)               0         \n",
            "                                                                 \n",
            " dense_1 (Dense)             (None, 256)               131328    \n",
            "                                                                 \n",
            " dropout_1 (Dropout)         (None, 256)               0         \n",
            "                                                                 \n",
            " dense_2 (Dense)             (None, 5)                 1285      \n",
            "                                                                 \n",
            "=================================================================\n",
            "Total params: 1,413,125\n",
            "Trainable params: 1,413,125\n",
            "Non-trainable params: 0\n",
            "_________________________________________________________________\n",
            "Epoch 1/40\n",
            "118/118 [==============================] - 3s 6ms/step - loss: 1.2897 - accuracy: 0.4538 - val_loss: 1.1406 - val_accuracy: 0.5472\n",
            "Epoch 2/40\n",
            "118/118 [==============================] - 0s 4ms/step - loss: 1.0539 - accuracy: 0.5636 - val_loss: 0.9619 - val_accuracy: 0.5948\n",
            "Epoch 3/40\n",
            "118/118 [==============================] - 0s 4ms/step - loss: 0.9042 - accuracy: 0.6267 - val_loss: 0.8421 - val_accuracy: 0.6460\n",
            "Epoch 4/40\n",
            "118/118 [==============================] - 0s 4ms/step - loss: 0.7952 - accuracy: 0.6694 - val_loss: 0.7992 - val_accuracy: 0.6540\n",
            "Epoch 5/40\n",
            "118/118 [==============================] - 0s 4ms/step - loss: 0.7220 - accuracy: 0.7061 - val_loss: 0.6943 - val_accuracy: 0.7076\n",
            "Epoch 6/40\n",
            "118/118 [==============================] - 0s 4ms/step - loss: 0.6579 - accuracy: 0.7420 - val_loss: 0.6491 - val_accuracy: 0.7340\n",
            "Epoch 7/40\n",
            "118/118 [==============================] - 0s 4ms/step - loss: 0.6116 - accuracy: 0.7547 - val_loss: 0.6216 - val_accuracy: 0.7376\n",
            "Epoch 8/40\n",
            "118/118 [==============================] - 0s 4ms/step - loss: 0.5702 - accuracy: 0.7800 - val_loss: 0.5868 - val_accuracy: 0.7620\n",
            "Epoch 9/40\n",
            "118/118 [==============================] - 0s 4ms/step - loss: 0.5401 - accuracy: 0.7907 - val_loss: 0.5762 - val_accuracy: 0.7652\n",
            "Epoch 10/40\n",
            "118/118 [==============================] - 1s 4ms/step - loss: 0.5065 - accuracy: 0.8047 - val_loss: 0.5168 - val_accuracy: 0.7904\n",
            "Epoch 11/40\n",
            "118/118 [==============================] - 0s 4ms/step - loss: 0.4726 - accuracy: 0.8234 - val_loss: 0.6082 - val_accuracy: 0.7580\n",
            "Epoch 12/40\n",
            "118/118 [==============================] - 0s 4ms/step - loss: 0.4363 - accuracy: 0.8408 - val_loss: 0.4694 - val_accuracy: 0.8208\n",
            "Epoch 13/40\n",
            "118/118 [==============================] - 1s 4ms/step - loss: 0.3975 - accuracy: 0.8593 - val_loss: 0.4478 - val_accuracy: 0.8528\n",
            "Epoch 14/40\n",
            "118/118 [==============================] - 0s 4ms/step - loss: 0.3588 - accuracy: 0.8809 - val_loss: 0.4327 - val_accuracy: 0.8632\n",
            "Epoch 15/40\n",
            "118/118 [==============================] - 0s 4ms/step - loss: 0.3530 - accuracy: 0.8785 - val_loss: 0.4082 - val_accuracy: 0.8720\n",
            "Epoch 16/40\n",
            "118/118 [==============================] - 0s 4ms/step - loss: 0.3126 - accuracy: 0.8986 - val_loss: 0.4152 - val_accuracy: 0.8620\n",
            "Epoch 17/40\n",
            "118/118 [==============================] - 1s 4ms/step - loss: 0.2887 - accuracy: 0.9100 - val_loss: 0.3803 - val_accuracy: 0.8820\n",
            "Epoch 18/40\n",
            "118/118 [==============================] - 0s 4ms/step - loss: 0.2714 - accuracy: 0.9168 - val_loss: 0.3798 - val_accuracy: 0.8848\n",
            "Epoch 19/40\n",
            "118/118 [==============================] - 0s 4ms/step - loss: 0.2550 - accuracy: 0.9224 - val_loss: 0.3495 - val_accuracy: 0.9124\n",
            "Epoch 20/40\n",
            "118/118 [==============================] - 0s 4ms/step - loss: 0.2329 - accuracy: 0.9315 - val_loss: 0.3484 - val_accuracy: 0.9176\n",
            "Epoch 21/40\n",
            "118/118 [==============================] - 0s 4ms/step - loss: 0.2191 - accuracy: 0.9332 - val_loss: 0.3356 - val_accuracy: 0.9200\n",
            "Epoch 22/40\n",
            "118/118 [==============================] - 0s 4ms/step - loss: 0.1988 - accuracy: 0.9412 - val_loss: 0.3135 - val_accuracy: 0.9280\n",
            "Epoch 23/40\n",
            "118/118 [==============================] - 0s 4ms/step - loss: 0.1972 - accuracy: 0.9411 - val_loss: 0.3322 - val_accuracy: 0.9124\n",
            "Epoch 24/40\n",
            "118/118 [==============================] - 0s 4ms/step - loss: 0.1837 - accuracy: 0.9445 - val_loss: 0.3123 - val_accuracy: 0.9252\n",
            "Epoch 25/40\n",
            "118/118 [==============================] - 0s 4ms/step - loss: 0.1728 - accuracy: 0.9486 - val_loss: 0.3244 - val_accuracy: 0.9308\n",
            "Epoch 26/40\n",
            "118/118 [==============================] - 0s 4ms/step - loss: 0.1606 - accuracy: 0.9521 - val_loss: 0.3249 - val_accuracy: 0.9288\n",
            "Epoch 27/40\n",
            "118/118 [==============================] - 0s 4ms/step - loss: 0.1555 - accuracy: 0.9527 - val_loss: 0.3265 - val_accuracy: 0.9332\n",
            "Epoch 28/40\n",
            "118/118 [==============================] - 0s 4ms/step - loss: 0.1422 - accuracy: 0.9591 - val_loss: 0.3348 - val_accuracy: 0.9248\n",
            "Epoch 29/40\n",
            "118/118 [==============================] - 0s 4ms/step - loss: 0.1432 - accuracy: 0.9591 - val_loss: 0.3242 - val_accuracy: 0.9264\n",
            "Epoch 30/40\n",
            "118/118 [==============================] - 0s 4ms/step - loss: 0.1297 - accuracy: 0.9597 - val_loss: 0.3284 - val_accuracy: 0.9228\n",
            "Epoch 31/40\n",
            "118/118 [==============================] - 0s 4ms/step - loss: 0.1224 - accuracy: 0.9626 - val_loss: 0.3467 - val_accuracy: 0.9348\n",
            "Epoch 32/40\n",
            "118/118 [==============================] - 0s 4ms/step - loss: 0.1167 - accuracy: 0.9653 - val_loss: 0.3474 - val_accuracy: 0.9224\n",
            "Epoch 33/40\n",
            "118/118 [==============================] - 0s 4ms/step - loss: 0.1143 - accuracy: 0.9645 - val_loss: 0.3241 - val_accuracy: 0.9340\n",
            "Epoch 34/40\n",
            "118/118 [==============================] - 0s 4ms/step - loss: 0.1112 - accuracy: 0.9651 - val_loss: 0.3128 - val_accuracy: 0.9444\n",
            "Epoch 35/40\n",
            "118/118 [==============================] - 0s 4ms/step - loss: 0.1097 - accuracy: 0.9657 - val_loss: 0.3808 - val_accuracy: 0.9192\n",
            "Epoch 36/40\n",
            "118/118 [==============================] - 0s 4ms/step - loss: 0.1103 - accuracy: 0.9652 - val_loss: 0.3175 - val_accuracy: 0.9432\n",
            "Epoch 37/40\n",
            "118/118 [==============================] - 0s 4ms/step - loss: 0.0914 - accuracy: 0.9733 - val_loss: 0.3333 - val_accuracy: 0.9416\n",
            "Epoch 38/40\n",
            "118/118 [==============================] - 0s 4ms/step - loss: 0.0960 - accuracy: 0.9689 - val_loss: 0.3242 - val_accuracy: 0.9428\n",
            "Epoch 39/40\n",
            "118/118 [==============================] - 0s 4ms/step - loss: 0.0951 - accuracy: 0.9693 - val_loss: 0.3676 - val_accuracy: 0.9276\n",
            "Epoch 40/40\n",
            "118/118 [==============================] - 0s 4ms/step - loss: 0.0943 - accuracy: 0.9703 - val_loss: 0.3133 - val_accuracy: 0.9476\n"
          ]
        },
        {
          "output_type": "execute_result",
          "data": {
            "text/plain": [
              "<matplotlib.axes._subplots.AxesSubplot at 0x7fee34146190>"
            ]
          },
          "metadata": {},
          "execution_count": 17
        },
        {
          "output_type": "display_data",
          "data": {
            "text/plain": [
              "<Figure size 432x288 with 1 Axes>"
            ],
            "image/png": "[encoded data removed]"
          },
          "metadata": {
            "needs_background": "light"
          }
        }
      ]
    },
    {
      "cell_type": "markdown",
      "source": [
        "Now let's see the results"
      ],
      "metadata": {
        "id": "sdbFG0Frmm-9"
      }
    },
    {
      "cell_type": "code",
      "source": [
        "pred = model.predict(X_test).argmax(axis=1)\n",
        "\n",
        "plt.figure(figsize=(5, 5))\n",
        "for label in range(5):\n",
        "    for i in range(5):\n",
        "        plt.subplot(5, 5, label * 5 + i +1)\n",
        "        plt.imshow(X_test[pred == label][i], cmap='gray')\n",
        "        plt.axis('off')\n",
        "plt.show()"
      ],
      "metadata": {
        "colab": {
          "base_uri": "https://localhost:8080/",
          "height": 320
        },
        "id": "jdgGrGerddFl",
        "outputId": "4e14d039-e1fe-4c6c-a418-5f3174c891e3"
      },
      "execution_count": 18,
      "outputs": [
        {
          "output_type": "stream",
          "name": "stdout",
          "text": [
            "79/79 [==============================] - 0s 2ms/step\n"
          ]
        },
        {
          "output_type": "display_data",
          "data": {
            "text/plain": [
              "<Figure size 360x360 with 25 Axes>"
            ],
            "image/png": "[encoded data removed]"
          },
          "metadata": {
            "needs_background": "light"
          }
        }
      ]
    },
    {
      "cell_type": "code",
      "source": [
        "plt.figure(figsize=(5, 5))\n",
        "for label in range(5):\n",
        "    for i in range(5):\n",
        "        plt.subplot(5, 5, label * 5 + i + 1)\n",
        "        mask = (pred == i) & (y_test == label)\n",
        "        if mask.sum() > 0:\n",
        "            plt.imshow(X_test[mask][0], cmap='gray')\n",
        "        plt.axis('off')\n",
        "plt.show()"
      ],
      "metadata": {
        "colab": {
          "base_uri": "https://localhost:8080/",
          "height": 303
        },
        "id": "jRwGaeaKiHBJ",
        "outputId": "adfbe509-7898-4bff-a28c-8679eb75cebe"
      },
      "execution_count": 19,
      "outputs": [
        {
          "output_type": "display_data",
          "data": {
            "text/plain": [
              "<Figure size 360x360 with 25 Axes>"
            ],
            "image/png": "[encoded data removed]"
          },
          "metadata": {
            "needs_background": "light"
          }
        }
      ]
    },
    {
      "cell_type": "markdown",
      "source": [
        "issaugoti modeli, atsisiusti notebooka, "
      ],
      "metadata": {
        "id": "XNRNf8Da-Bqi"
      }
    },
    {
      "cell_type": "code",
      "source": [
        "model.save('model.h5')"
      ],
      "metadata": {
        "id": "qro4vQK6y-bV"
      },
      "execution_count": 20,
      "outputs": []
    },
    {
      "cell_type": "code",
      "source": [],
      "metadata": {
        "id": "8Ia2Oi-rW0xp"
      },
      "execution_count": null,
      "outputs": []
    }
  ]
}