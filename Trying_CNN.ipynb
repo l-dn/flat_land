{
  "nbformat": 4,
  "nbformat_minor": 0,
  "metadata": {
    "colab": {
      "provenance": [],
      "collapsed_sections": []
    },
    "kernelspec": {
      "name": "python3",
      "display_name": "Python 3"
    },
    "language_info": {
      "name": "python"
    },
    "gpuClass": "standard",
    "accelerator": "GPU"
  },
  "cells": [
    {
      "cell_type": "code",
      "source": [
        "%matplotlib inline\n",
        "\n",
        "import numpy as np\n",
        "import matplotlib.pyplot as plt\n",
        "import pandas as pd\n",
        "from sklearn.model_selection import train_test_split\n",
        "\n",
        "import tensorflow.keras as keras\n",
        "from tensorflow.keras.layers import Dense, Input, Flatten, Conv2D, BatchNormalization, \\\n",
        "                                    Activation, Dropout, MaxPooling2D\n",
        "from tensorflow.keras.models import Sequential\n",
        "from tensorflow.keras.optimizers import Adam\n",
        "\n",
        "from collections import Counter"
      ],
      "metadata": {
        "id": "nTvyWvB2o6JK"
      },
      "execution_count": 58,
      "outputs": []
    },
    {
      "cell_type": "markdown",
      "source": [
        "Load data"
      ],
      "metadata": {
        "id": "zlJ2zvP0Dy9M"
      }
    },
    {
      "cell_type": "code",
      "source": [
        "data = np.load('/content/flatland_train.npz')\n",
        "X = data['X']\n",
        "y = data['y']"
      ],
      "metadata": {
        "id": "9nNCOiMMCvTr"
      },
      "execution_count": 2,
      "outputs": []
    },
    {
      "cell_type": "markdown",
      "source": [
        "Let's check the shape"
      ],
      "metadata": {
        "id": "cZW6KaDYk5R_"
      }
    },
    {
      "cell_type": "code",
      "source": [
        "X.shape"
      ],
      "metadata": {
        "colab": {
          "base_uri": "https://localhost:8080/"
        },
        "id": "e2NiXg5pi5dd",
        "outputId": "667994c7-36ba-4c27-888c-78fce423c27c"
      },
      "execution_count": 3,
      "outputs": [
        {
          "output_type": "execute_result",
          "data": {
            "text/plain": [
              "(10000, 50, 50)"
            ]
          },
          "metadata": {},
          "execution_count": 3
        }
      ]
    },
    {
      "cell_type": "code",
      "source": [
        "y.shape"
      ],
      "metadata": {
        "colab": {
          "base_uri": "https://localhost:8080/"
        },
        "id": "vUyeNHC3i5g8",
        "outputId": "9a6890b2-b2be-4e89-8dcd-b5d2f8e20bcc"
      },
      "execution_count": 4,
      "outputs": [
        {
          "output_type": "execute_result",
          "data": {
            "text/plain": [
              "(10000,)"
            ]
          },
          "metadata": {},
          "execution_count": 4
        }
      ]
    },
    {
      "cell_type": "markdown",
      "source": [
        "Change the numeration"
      ],
      "metadata": {
        "id": "TuBuBdsRlKRx"
      }
    },
    {
      "cell_type": "code",
      "source": [
        "y[y != 0] -= 2    # Correct labels so that triangle is mapped to class 1\n",
        "X = X / 255.      # Scale down to range [0, 1]"
      ],
      "metadata": {
        "id": "71MPVRMli5kE"
      },
      "execution_count": 5,
      "outputs": []
    },
    {
      "cell_type": "markdown",
      "source": [
        "Let's use the counter command"
      ],
      "metadata": {
        "id": "EBOiHSq-ld-U"
      }
    },
    {
      "cell_type": "code",
      "source": [
        "Counter(y)"
      ],
      "metadata": {
        "colab": {
          "base_uri": "https://localhost:8080/"
        },
        "id": "WvAihi4Di5oO",
        "outputId": "b95cf020-481e-47fe-a6da-2d75f3a87528"
      },
      "execution_count": 6,
      "outputs": [
        {
          "output_type": "execute_result",
          "data": {
            "text/plain": [
              "Counter({2.0: 1868, 4.0: 1761, 3.0: 2137, 1.0: 2853, 0.0: 1381})"
            ]
          },
          "metadata": {},
          "execution_count": 6
        }
      ]
    },
    {
      "cell_type": "markdown",
      "source": [
        "We can see that a Hexagon is the figure that has the most corners in here."
      ],
      "metadata": {
        "id": "LrowmSAfl1g1"
      }
    },
    {
      "cell_type": "code",
      "source": [
        "plt.figure(figsize=(10, 3)) #plot of first 30 figures\n",
        "for i in range(30):\n",
        "    plt.subplot(3, 10, i + 1)\n",
        "    plt.imshow(X[i], cmap='gray')\n",
        "    plt.axis('off')\n",
        "plt.show()"
      ],
      "metadata": {
        "id": "Gv18fCvMo65K",
        "colab": {
          "base_uri": "https://localhost:8080/",
          "height": 193
        },
        "outputId": "15528f63-7e36-4a10-d0fd-47ab085f6ec0"
      },
      "execution_count": null,
      "outputs": [
        {
          "output_type": "display_data",
          "data": {
            "text/plain": [
              "<Figure size 720x216 with 30 Axes>"
            ],
            "image/png": "[encoded data removed]"
          },
          "metadata": {
            "needs_background": "light"
          }
        }
      ]
    },
    {
      "cell_type": "markdown",
      "source": [
        "Let's split data to training and testing"
      ],
      "metadata": {
        "id": "zLi64IzVpf1r"
      }
    },
    {
      "cell_type": "code",
      "source": [
        "X_train, X_test, y_train, y_test = train_test_split(X, y, test_size=0.25, random_state=42)"
      ],
      "metadata": {
        "id": "K6uotzj-zKYL"
      },
      "execution_count": 67,
      "outputs": []
    },
    {
      "cell_type": "markdown",
      "source": [
        "We add additional data that is just a mirror view of existing ones."
      ],
      "metadata": {
        "id": "nrc3cxO3o_Vc"
      }
    },
    {
      "cell_type": "code",
      "source": [
        "X_train_aug = np.concatenate([X_train, X_train[..., ::-1]])\n",
        "y_train_aug = np.concatenate([y_train, y_train])"
      ],
      "metadata": {
        "id": "0x3mF26io_ak"
      },
      "execution_count": 68,
      "outputs": []
    },
    {
      "cell_type": "code",
      "source": [
        "plt.imshow(X_train[5], cmap='gray')"
      ],
      "metadata": {
        "colab": {
          "base_uri": "https://localhost:8080/",
          "height": 284
        },
        "id": "gXb43O5lzj0A",
        "outputId": "a064790b-ce80-4b98-f67c-2078d0d06467"
      },
      "execution_count": 9,
      "outputs": [
        {
          "output_type": "execute_result",
          "data": {
            "text/plain": [
              "<matplotlib.image.AxesImage at 0x7ff48482ded0>"
            ]
          },
          "metadata": {},
          "execution_count": 9
        },
        {
          "output_type": "display_data",
          "data": {
            "text/plain": [
              "<Figure size 432x288 with 1 Axes>"
            ],
            "image/png": "[encoded data removed]"
          },
          "metadata": {
            "needs_background": "light"
          }
        }
      ]
    },
    {
      "cell_type": "code",
      "source": [
        "plt.imshow(X_train[5][..., ::-1], cmap='gray')"
      ],
      "metadata": {
        "colab": {
          "base_uri": "https://localhost:8080/",
          "height": 284
        },
        "id": "hjg2IkIQz_Jw",
        "outputId": "10f9ef02-3bf8-4a23-949f-e9b6f5a6a634"
      },
      "execution_count": 10,
      "outputs": [
        {
          "output_type": "execute_result",
          "data": {
            "text/plain": [
              "<matplotlib.image.AxesImage at 0x7ff484267350>"
            ]
          },
          "metadata": {},
          "execution_count": 10
        },
        {
          "output_type": "display_data",
          "data": {
            "text/plain": [
              "<Figure size 432x288 with 1 Axes>"
            ],
            "image/png": "[encoded data removed]"
          },
          "metadata": {
            "needs_background": "light"
          }
        }
      ]
    },
    {
      "cell_type": "code",
      "source": [
        "Counter(y_train)"
      ],
      "metadata": {
        "colab": {
          "base_uri": "https://localhost:8080/"
        },
        "id": "rZWy-PLAhJ5A",
        "outputId": "e0b6439c-1cae-4627-abb2-135401a3f633"
      },
      "execution_count": 11,
      "outputs": [
        {
          "output_type": "execute_result",
          "data": {
            "text/plain": [
              "Counter({3.0: 1617, 1.0: 2147, 0.0: 1002, 4.0: 1340, 2.0: 1394})"
            ]
          },
          "metadata": {},
          "execution_count": 11
        }
      ]
    },
    {
      "cell_type": "code",
      "source": [
        "Counter(y_test)"
      ],
      "metadata": {
        "colab": {
          "base_uri": "https://localhost:8080/"
        },
        "id": "3MfJcS18hJ-p",
        "outputId": "fdf5b8e1-49a5-4746-e52e-963b19125e48"
      },
      "execution_count": 12,
      "outputs": [
        {
          "output_type": "execute_result",
          "data": {
            "text/plain": [
              "Counter({1.0: 706, 0.0: 379, 4.0: 421, 3.0: 520, 2.0: 474})"
            ]
          },
          "metadata": {},
          "execution_count": 12
        }
      ]
    },
    {
      "cell_type": "code",
      "source": [
        "X_train.shape"
      ],
      "metadata": {
        "colab": {
          "base_uri": "https://localhost:8080/"
        },
        "id": "XnSae-LfSlwS",
        "outputId": "742bcbbd-e7e2-41be-b0c8-715b2e80a0fa"
      },
      "execution_count": 13,
      "outputs": [
        {
          "output_type": "execute_result",
          "data": {
            "text/plain": [
              "(7500, 50, 50)"
            ]
          },
          "metadata": {},
          "execution_count": 13
        }
      ]
    },
    {
      "cell_type": "code",
      "source": [
        "X_train_aug.shape"
      ],
      "metadata": {
        "colab": {
          "base_uri": "https://localhost:8080/"
        },
        "id": "V4vWXU6CpykW",
        "outputId": "0399c378-6142-4c13-8855-e0d1242084f7"
      },
      "execution_count": 14,
      "outputs": [
        {
          "output_type": "execute_result",
          "data": {
            "text/plain": [
              "(15000, 50, 50)"
            ]
          },
          "metadata": {},
          "execution_count": 14
        }
      ]
    },
    {
      "cell_type": "markdown",
      "source": [
        "We will use augmented data,\n",
        "\n",
        "In our CNN: \n",
        "\n",
        "from last S_NN implementation i changed architecture a bit:\n",
        "\n",
        "\n",
        "\n",
        "\n",
        "\n",
        "\n",
        "\n",
        "\n",
        "\n",
        "\n",
        "\n"
      ],
      "metadata": {
        "id": "7F_BzQybv2SO"
      }
    },
    {
      "cell_type": "markdown",
      "source": [
        "We will add one dimension for conv2D"
      ],
      "metadata": {
        "id": "udl6tbkPgUxO"
      }
    },
    {
      "cell_type": "code",
      "source": [
        "X_train_aug = X_train_aug.reshape(X_train_aug.shape[0], 50, 50, 1)\n",
        "X_test = X_test.reshape(X_test.shape[0], 50, 50, 1)"
      ],
      "metadata": {
        "id": "WbW5JRZHgVyG"
      },
      "execution_count": 69,
      "outputs": []
    },
    {
      "cell_type": "code",
      "source": [
        "inp = keras.layers.Input(shape=(50, 50, 1))\n",
        "\n",
        "\n",
        "out = keras.layers.Conv2D(64, kernel_size=(3, 3), activation='relu')(inp)\n",
        "out = keras.layers.Conv2D(64, kernel_size=(3, 3), activation='relu')(out)\n",
        "out = keras.layers.Conv2D(32, kernel_size=(3, 3), activation='relu')(out)\n",
        "out = keras.layers.Conv2D(16, kernel_size=(3, 3), activation='relu')(out)\n",
        "out = keras.layers.MaxPool2D(pool_size=(3, 3))(out)\n",
        "\n",
        "out = keras.layers.BatchNormalization(axis=-1)(out)\n",
        "\n",
        "out = keras.layers.Conv2D(32, kernel_size=(3, 3), activation='relu')(out)\n",
        "out = keras.layers.Conv2D(32, kernel_size=(3, 3), activation='relu')(out)\n",
        "out = keras.layers.MaxPool2D(pool_size=(2, 2))(out)\n",
        "\n",
        "out = keras.layers.Flatten()(out)\n",
        "out = keras.layers.Dense(512,  activation='relu')(out)\n",
        "out = keras.layers.Dropout(0.3)(out)\n",
        "out = keras.layers.Dense(216,  activation='relu')(out)\n",
        "out = keras.layers.Dropout(0.3)(out)\n",
        "out = keras.layers.Dense(5,  activation='softmax')(out)\n",
        "\n",
        "\n",
        "model = keras.models.Model(inputs=inp, outputs=out)\n",
        "model.compile(optimizer=keras.optimizers.Adam(learning_rate=3e-4),\n",
        "              loss='sparse_categorical_crossentropy', metrics=['accuracy'])\n",
        "\n",
        "model.summary()\n",
        "\n",
        "\n",
        "hist = model.fit(X_train_aug, y_train_aug,\n",
        "                validation_data=(X_test, y_test),\n",
        "                 epochs=20, batch_size=128)\n",
        "\n",
        "pd.DataFrame(hist.history).plot()"
      ],
      "metadata": {
        "id": "48kpg9iFskLN",
        "outputId": "7df396f1-4d63-49ec-b6d0-4de08c54be81",
        "colab": {
          "base_uri": "https://localhost:8080/",
          "height": 1000
        }
      },
      "execution_count": 100,
      "outputs": [
        {
          "output_type": "stream",
          "name": "stdout",
          "text": [
            "Model: \"model_70\"\n",
            "_________________________________________________________________\n",
            " Layer (type)                Output Shape              Param #   \n",
            "=================================================================\n",
            " input_80 (InputLayer)       [(None, 50, 50, 1)]       0         \n",
            "                                                                 \n",
            " conv2d_369 (Conv2D)         (None, 48, 48, 64)        640       \n",
            "                                                                 \n",
            " conv2d_370 (Conv2D)         (None, 46, 46, 64)        36928     \n",
            "                                                                 \n",
            " conv2d_371 (Conv2D)         (None, 44, 44, 32)        18464     \n",
            "                                                                 \n",
            " conv2d_372 (Conv2D)         (None, 42, 42, 16)        4624      \n",
            "                                                                 \n",
            " max_pooling2d_180 (MaxPooli  (None, 14, 14, 16)       0         \n",
            " ng2D)                                                           \n",
            "                                                                 \n",
            " batch_normalization_38 (Bat  (None, 14, 14, 16)       64        \n",
            " chNormalization)                                                \n",
            "                                                                 \n",
            " conv2d_373 (Conv2D)         (None, 12, 12, 32)        4640      \n",
            "                                                                 \n",
            " conv2d_374 (Conv2D)         (None, 10, 10, 32)        9248      \n",
            "                                                                 \n",
            " max_pooling2d_181 (MaxPooli  (None, 5, 5, 32)         0         \n",
            " ng2D)                                                           \n",
            "                                                                 \n",
            " flatten_70 (Flatten)        (None, 800)               0         \n",
            "                                                                 \n",
            " dense_182 (Dense)           (None, 512)               410112    \n",
            "                                                                 \n",
            " dropout_112 (Dropout)       (None, 512)               0         \n",
            "                                                                 \n",
            " dense_183 (Dense)           (None, 216)               110808    \n",
            "                                                                 \n",
            " dropout_113 (Dropout)       (None, 216)               0         \n",
            "                                                                 \n",
            " dense_184 (Dense)           (None, 5)                 1085      \n",
            "                                                                 \n",
            "=================================================================\n",
            "Total params: 596,613\n",
            "Trainable params: 596,581\n",
            "Non-trainable params: 32\n",
            "_________________________________________________________________\n",
            "Epoch 1/20\n",
            "118/118 [==============================] - 6s 44ms/step - loss: 1.2372 - accuracy: 0.4684 - val_loss: 1.4184 - val_accuracy: 0.5444\n",
            "Epoch 2/20\n",
            "118/118 [==============================] - 5s 42ms/step - loss: 0.7353 - accuracy: 0.7105 - val_loss: 0.9593 - val_accuracy: 0.6244\n",
            "Epoch 3/20\n",
            "118/118 [==============================] - 5s 42ms/step - loss: 0.3799 - accuracy: 0.8996 - val_loss: 0.5925 - val_accuracy: 0.8572\n",
            "Epoch 4/20\n",
            "118/118 [==============================] - 5s 42ms/step - loss: 0.2652 - accuracy: 0.9489 - val_loss: 0.2810 - val_accuracy: 0.9668\n",
            "Epoch 5/20\n",
            "118/118 [==============================] - 5s 42ms/step - loss: 0.2100 - accuracy: 0.9642 - val_loss: 0.3063 - val_accuracy: 0.9188\n",
            "Epoch 6/20\n",
            "118/118 [==============================] - 5s 42ms/step - loss: 0.1696 - accuracy: 0.9735 - val_loss: 0.1692 - val_accuracy: 0.9752\n",
            "Epoch 7/20\n",
            "118/118 [==============================] - 5s 42ms/step - loss: 0.1436 - accuracy: 0.9790 - val_loss: 0.1622 - val_accuracy: 0.9828\n",
            "Epoch 8/20\n",
            "118/118 [==============================] - 5s 42ms/step - loss: 0.1289 - accuracy: 0.9816 - val_loss: 0.1508 - val_accuracy: 0.9832\n",
            "Epoch 9/20\n",
            "118/118 [==============================] - 5s 42ms/step - loss: 0.1229 - accuracy: 0.9799 - val_loss: 0.1558 - val_accuracy: 0.9804\n",
            "Epoch 10/20\n",
            "118/118 [==============================] - 5s 42ms/step - loss: 0.1127 - accuracy: 0.9811 - val_loss: 0.1498 - val_accuracy: 0.9828\n",
            "Epoch 11/20\n",
            "118/118 [==============================] - 5s 42ms/step - loss: 0.1066 - accuracy: 0.9815 - val_loss: 0.1408 - val_accuracy: 0.9828\n",
            "Epoch 12/20\n",
            "118/118 [==============================] - 5s 42ms/step - loss: 0.0991 - accuracy: 0.9833 - val_loss: 0.1429 - val_accuracy: 0.9820\n",
            "Epoch 13/20\n",
            "118/118 [==============================] - 5s 42ms/step - loss: 0.0940 - accuracy: 0.9833 - val_loss: 0.1520 - val_accuracy: 0.9800\n",
            "Epoch 14/20\n",
            "118/118 [==============================] - 5s 42ms/step - loss: 0.0912 - accuracy: 0.9809 - val_loss: 0.2040 - val_accuracy: 0.9572\n",
            "Epoch 15/20\n",
            "118/118 [==============================] - 5s 42ms/step - loss: 0.0895 - accuracy: 0.9819 - val_loss: 0.1546 - val_accuracy: 0.9804\n",
            "Epoch 16/20\n",
            "118/118 [==============================] - 5s 42ms/step - loss: 0.0817 - accuracy: 0.9839 - val_loss: 0.1528 - val_accuracy: 0.9824\n",
            "Epoch 17/20\n",
            "118/118 [==============================] - 5s 42ms/step - loss: 0.0789 - accuracy: 0.9840 - val_loss: 0.1532 - val_accuracy: 0.9812\n",
            "Epoch 18/20\n",
            "118/118 [==============================] - 5s 42ms/step - loss: 0.0740 - accuracy: 0.9849 - val_loss: 0.1690 - val_accuracy: 0.9824\n",
            "Epoch 19/20\n",
            "118/118 [==============================] - 5s 42ms/step - loss: 0.0692 - accuracy: 0.9856 - val_loss: 0.1562 - val_accuracy: 0.9808\n",
            "Epoch 20/20\n",
            "118/118 [==============================] - 5s 42ms/step - loss: 0.0601 - accuracy: 0.9860 - val_loss: 0.1697 - val_accuracy: 0.9832\n"
          ]
        },
        {
          "output_type": "execute_result",
          "data": {
            "text/plain": [
              "<matplotlib.axes._subplots.AxesSubplot at 0x7ff3f3c2f950>"
            ]
          },
          "metadata": {},
          "execution_count": 100
        },
        {
          "output_type": "display_data",
          "data": {
            "text/plain": [
              "<Figure size 432x288 with 1 Axes>"
            ],
            "image/png": "[encoded data removed]"
          },
          "metadata": {
            "needs_background": "light"
          }
        }
      ]
    },
    {
      "cell_type": "markdown",
      "source": [
        "Now let's see the results"
      ],
      "metadata": {
        "id": "sdbFG0Frmm-9"
      }
    },
    {
      "cell_type": "code",
      "source": [
        "pred = model.predict(X_test).argmax(axis=1)\n",
        "\n",
        "X_test = X_test.reshape(X_test.shape[0], 50, 50)\n",
        "\n",
        "plt.figure(figsize=(5, 5))\n",
        "for label in range(5):\n",
        "    for i in range(5):\n",
        "        plt.subplot(5, 5, label * 5 + i +1)\n",
        "        plt.imshow(X_test[pred == label][i], cmap='gray')\n",
        "        plt.axis('off')\n",
        "plt.show()"
      ],
      "metadata": {
        "colab": {
          "base_uri": "https://localhost:8080/",
          "height": 320
        },
        "id": "jdgGrGerddFl",
        "outputId": "133d27a4-7c28-435a-f010-a62a4fa3f757"
      },
      "execution_count": 103,
      "outputs": [
        {
          "output_type": "stream",
          "name": "stdout",
          "text": [
            "79/79 [==============================] - 1s 8ms/step\n"
          ]
        },
        {
          "output_type": "display_data",
          "data": {
            "text/plain": [
              "<Figure size 360x360 with 25 Axes>"
            ],
            "image/png": "[encoded data removed]"
          },
          "metadata": {
            "needs_background": "light"
          }
        }
      ]
    },
    {
      "cell_type": "markdown",
      "source": [
        "issaugoti modeli, atsisiusti notebooka..."
      ],
      "metadata": {
        "id": "XNRNf8Da-Bqi"
      }
    },
    {
      "cell_type": "code",
      "source": [
        "model.save('CNN_model.h5')"
      ],
      "metadata": {
        "id": "qro4vQK6y-bV"
      },
      "execution_count": 104,
      "outputs": []
    },
    {
      "cell_type": "code",
      "source": [],
      "metadata": {
        "id": "8Ia2Oi-rW0xp"
      },
      "execution_count": null,
      "outputs": []
    }
  ]
}